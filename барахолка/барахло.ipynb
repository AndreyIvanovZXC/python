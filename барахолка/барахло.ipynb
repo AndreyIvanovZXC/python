{
 "cells": [
  {
   "cell_type": "markdown",
   "metadata": {},
   "source": [
    "### №1"
   ]
  },
  {
   "cell_type": "code",
   "execution_count": null,
   "metadata": {},
   "outputs": [],
   "source": [
    "привет"
   ]
  },
  {
   "cell_type": "markdown",
   "metadata": {},
   "source": [
    "for a in range (0,24):\n",
    "print(\"a\")"
   ]
  },
  {
   "cell_type": "code",
   "execution_count": 18,
   "metadata": {},
   "outputs": [
    {
     "name": "stdout",
     "output_type": "stream",
     "text": [
      "None\n",
      "None\n",
      "None\n",
      "None\n",
      "None\n"
     ]
    }
   ],
   "source": [
    "def process_query(query):\n",
    "    parts = query.split(\" \", 1)\n",
    "    name = parts[0]\n",
    "    question = parts[1] if len(parts) > 1 else \"\"\n",
    "    \n",
    "    if name == \"Анфиса\":\n",
    "        return process_anfisa(question)\n",
    "    else:\n",
    "        return None\n",
    "\n",
    "\n",
    "print(process_query('Анфиса, сколько у меня друзей?'))\n",
    "print(process_query('Анфиса, кто все мои друзья?'))\n",
    "print(process_query('Анфиса, где все мои друзья?'))\n",
    "print(process_query('Анфиса, кто виноват?'))\n",
    "print(process_query('Соня, ты где?'))\n"
   ]
  },
  {
   "cell_type": "code",
   "execution_count": 1,
   "metadata": {},
   "outputs": [
    {
     "ename": "NameError",
     "evalue": "name 'nx' is not defined",
     "output_type": "error",
     "traceback": [
      "\u001b[1;31m---------------------------------------------------------------------------\u001b[0m",
      "\u001b[1;31mNameError\u001b[0m                                 Traceback (most recent call last)",
      "Cell \u001b[1;32mIn[1], line 14\u001b[0m\n\u001b[0;32m      4\u001b[0m adj_matrix_undirected_2 \u001b[38;5;241m=\u001b[39m np\u001b[38;5;241m.\u001b[39marray([\n\u001b[0;32m      5\u001b[0m     [\u001b[38;5;241m0\u001b[39m, \u001b[38;5;241m1\u001b[39m, \u001b[38;5;241m1\u001b[39m, \u001b[38;5;241m0\u001b[39m, \u001b[38;5;241m0\u001b[39m, \u001b[38;5;241m1\u001b[39m],\n\u001b[0;32m      6\u001b[0m     [\u001b[38;5;241m1\u001b[39m, \u001b[38;5;241m0\u001b[39m, \u001b[38;5;241m1\u001b[39m, \u001b[38;5;241m0\u001b[39m, \u001b[38;5;241m1\u001b[39m, \u001b[38;5;241m0\u001b[39m],\n\u001b[1;32m   (...)\u001b[0m\n\u001b[0;32m     10\u001b[0m     [\u001b[38;5;241m1\u001b[39m, \u001b[38;5;241m0\u001b[39m, \u001b[38;5;241m1\u001b[39m, \u001b[38;5;241m0\u001b[39m, \u001b[38;5;241m1\u001b[39m, \u001b[38;5;241m0\u001b[39m]\n\u001b[0;32m     11\u001b[0m ])\n\u001b[0;32m     13\u001b[0m \u001b[38;5;66;03m# Создание графа из матрицы смежности\u001b[39;00m\n\u001b[1;32m---> 14\u001b[0m G_undirected_2 \u001b[38;5;241m=\u001b[39m \u001b[43mnx\u001b[49m\u001b[38;5;241m.\u001b[39mGraph()\n\u001b[0;32m     15\u001b[0m rows, cols \u001b[38;5;241m=\u001b[39m np\u001b[38;5;241m.\u001b[39mwhere(adj_matrix_undirected_2 \u001b[38;5;241m==\u001b[39m \u001b[38;5;241m1\u001b[39m)\n\u001b[0;32m     16\u001b[0m edges \u001b[38;5;241m=\u001b[39m \u001b[38;5;28mzip\u001b[39m(rows\u001b[38;5;241m.\u001b[39mtolist(), cols\u001b[38;5;241m.\u001b[39mtolist())\n",
      "\u001b[1;31mNameError\u001b[0m: name 'nx' is not defined"
     ]
    }
   ],
   "source": [
    "import numpy as np\n",
    "\n",
    "# Матрица смежности\n",
    "adj_matrix_undirected_2 = np.array([\n",
    "    [0, 1, 1, 0, 0, 1],\n",
    "    [1, 0, 1, 0, 1, 0],\n",
    "    [1, 1, 0, 1, 0, 1],\n",
    "    [0, 0, 1, 0, 1, 0],\n",
    "    [0, 1, 0, 1, 0, 1],\n",
    "    [1, 0, 1, 0, 1, 0]\n",
    "])\n",
    "\n",
    "# Создание графа из матрицы смежности\n",
    "G_undirected_2 = nx.Graph()\n",
    "rows, cols = np.where(adj_matrix_undirected_2 == 1)\n",
    "edges = zip(rows.tolist(), cols.tolist())\n",
    "for (i, j) in edges:\n",
    "    if i < j:  # Добавляем только один раз каждую пару вершин для неориентированного графа\n",
    "        G_undirected_2.add_edge(i + 1, j + 1)\n",
    "\n",
    "# Матрица инцидентности\n",
    "inc_matrix_3 = np.array([\n",
    "    [-1, 0, -1, 0, 0, 0, 0, 0],\n",
    "    [0, -1, 0, 0, 0, 0, 0, 0],\n",
    "    [1, 1, 0, 0, 1, 0, 1, 0],\n",
    "    [0, 0, 1, -1, -1, 1, 0, 1],\n",
    "    [0, 0, 0, 1, 0, 0, 0, -1],\n",
    "    [0, 0, 0, 0, 0, -1, 1, 1]\n",
    "])\n",
    "\n",
    "# Создание ориентированного графа из матрицы инцидентности\n",
    "G_directed_3 = nx.DiGraph()\n",
    "for i in range(inc_matrix_3.shape[1]):\n",
    "    edge = np.where(inc_matrix_3[:, i] != 0)[0]\n",
    "    if len(edge) == 2:\n",
    "        if inc_matrix_3[edge[0], i] == -1:\n",
    "            G_directed_3.add_edge(edge[0] + 1, edge[1] + 1)\n",
    "        else:\n",
    "            G_directed_3.add_edge(edge[1] + 1, edge[0] + 1)\n",
    "\n",
    "# Рисование графов\n",
    "fig, axs = plt.subplots(1, 2, figsize=(15, 7))\n",
    "\n",
    "# Граф по матрице смежности\n",
    "pos1 = nx.spring_layout(G_undirected_2)\n",
    "nx.draw(G_undirected_2, pos1, with_labels=True, node_color='lightblue', edge_color='black', ax=axs[0])\n",
    "axs[0].set_title('Неориентированный граф (матрица смежности)')\n",
    "\n",
    "# Граф по матрице инцидентности\n",
    "pos2 = nx.spring_layout(G_directed_3)\n",
    "nx.draw(G_directed_3, pos2, with_labels=True, node_color='lightgreen', edge_color='red', ax=axs[1])\n",
    "nx.draw_networkx_edge_labels(G_directed_3, pos2, edge_labels={(u, v): k for k, (u, v) in enumerate(G_directed_3.edges)}, ax=axs[1])\n",
    "axs[1].set_title('Ориентированный граф (матрица инцидентности)')\n",
    "\n",
    "plt.show()"
   ]
  },
  {
   "cell_type": "code",
   "execution_count": null,
   "metadata": {},
   "outputs": [],
   "source": []
  },
  {
   "cell_type": "code",
   "execution_count": null,
   "metadata": {},
   "outputs": [],
   "source": []
  },
  {
   "cell_type": "code",
   "execution_count": null,
   "metadata": {},
   "outputs": [],
   "source": []
  }
 ],
 "metadata": {
  "kernelspec": {
   "display_name": "myenv",
   "language": "python",
   "name": "python3"
  },
  "language_info": {
   "codemirror_mode": {
    "name": "ipython",
    "version": 3
   },
   "file_extension": ".py",
   "mimetype": "text/x-python",
   "name": "python",
   "nbconvert_exporter": "python",
   "pygments_lexer": "ipython3",
   "version": "3.11.9"
  }
 },
 "nbformat": 4,
 "nbformat_minor": 2
}
